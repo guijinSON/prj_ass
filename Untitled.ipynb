{
 "cells": [
  {
   "cell_type": "code",
   "execution_count": 1,
   "id": "6fbeafe4",
   "metadata": {},
   "outputs": [],
   "source": [
    "import pygsheets"
   ]
  },
  {
   "cell_type": "code",
   "execution_count": 2,
   "id": "a5a0b8a0",
   "metadata": {},
   "outputs": [],
   "source": [
    "login_credential = 'future-disruption-index-adc3981eedd2.json'\n",
    "gc = pygsheets.authorize(service_file=login_credential)\n"
   ]
  },
  {
   "cell_type": "code",
   "execution_count": 3,
   "id": "69002263",
   "metadata": {},
   "outputs": [
    {
     "ename": "HttpError",
     "evalue": "<HttpError 403 when requesting https://www.googleapis.com/drive/v3/files/18j_RUQmj_Aox6VulRxEvfSbV7LfUlridVc6cWH1rc0U/permissions?alt=json returned \"The transferOwnership parameter must be enabled when the permission role is 'owner'.\". Details: \"[{'domain': 'global', 'reason': 'forbidden', 'message': \"The transferOwnership parameter must be enabled when the permission role is 'owner'.\", 'locationType': 'parameter', 'location': 'transferOwnership'}]\">",
     "output_type": "error",
     "traceback": [
      "\u001b[0;31m---------------------------------------------------------------------------\u001b[0m",
      "\u001b[0;31mHttpError\u001b[0m                                 Traceback (most recent call last)",
      "Input \u001b[0;32mIn [3]\u001b[0m, in \u001b[0;36m<cell line: 3>\u001b[0;34m()\u001b[0m\n\u001b[1;32m      1\u001b[0m sh \u001b[38;5;241m=\u001b[39m gc\u001b[38;5;241m.\u001b[39mopen_by_key(\u001b[38;5;124m'\u001b[39m\u001b[38;5;124m18j_RUQmj_Aox6VulRxEvfSbV7LfUlridVc6cWH1rc0U\u001b[39m\u001b[38;5;124m'\u001b[39m)\n\u001b[0;32m----> 3\u001b[0m \u001b[43msh\u001b[49m\u001b[38;5;241;43m.\u001b[39;49m\u001b[43mshare\u001b[49m\u001b[43m(\u001b[49m\u001b[38;5;124;43m'\u001b[39;49m\u001b[38;5;124;43mspthsrbwls123@yonsei.ac.kr\u001b[39;49m\u001b[38;5;124;43m'\u001b[39;49m\u001b[43m,\u001b[49m\u001b[43m \u001b[49m\u001b[43mrole\u001b[49m\u001b[38;5;241;43m=\u001b[39;49m\u001b[38;5;124;43m'\u001b[39;49m\u001b[38;5;124;43mowner\u001b[39;49m\u001b[38;5;124;43m'\u001b[39;49m\u001b[43m)\u001b[49m\n",
      "File \u001b[0;32m~/opt/anaconda3/envs/Rich/lib/python3.8/site-packages/pygsheets/spreadsheet.py:302\u001b[0m, in \u001b[0;36mSpreadsheet.share\u001b[0;34m(self, email_or_domain, role, type, **kwargs)\u001b[0m\n\u001b[1;32m    300\u001b[0m \u001b[38;5;28;01melif\u001b[39;00m \u001b[38;5;28mtype\u001b[39m \u001b[38;5;241m==\u001b[39m \u001b[38;5;124m'\u001b[39m\u001b[38;5;124mdomain\u001b[39m\u001b[38;5;124m'\u001b[39m:\n\u001b[1;32m    301\u001b[0m     kwargs[\u001b[38;5;124m'\u001b[39m\u001b[38;5;124mdomain\u001b[39m\u001b[38;5;124m'\u001b[39m] \u001b[38;5;241m=\u001b[39m email_or_domain\n\u001b[0;32m--> 302\u001b[0m \u001b[38;5;28;43mself\u001b[39;49m\u001b[38;5;241;43m.\u001b[39;49m\u001b[43mclient\u001b[49m\u001b[38;5;241;43m.\u001b[39;49m\u001b[43mdrive\u001b[49m\u001b[38;5;241;43m.\u001b[39;49m\u001b[43mcreate_permission\u001b[49m\u001b[43m(\u001b[49m\u001b[38;5;28;43mself\u001b[39;49m\u001b[38;5;241;43m.\u001b[39;49m\u001b[43mid\u001b[49m\u001b[43m,\u001b[49m\u001b[43m \u001b[49m\u001b[43mrole\u001b[49m\u001b[38;5;241;43m=\u001b[39;49m\u001b[43mrole\u001b[49m\u001b[43m,\u001b[49m\u001b[43m \u001b[49m\u001b[38;5;28;43mtype\u001b[39;49m\u001b[38;5;241;43m=\u001b[39;49m\u001b[38;5;28;43mtype\u001b[39;49m\u001b[43m,\u001b[49m\u001b[43m \u001b[49m\u001b[38;5;241;43m*\u001b[39;49m\u001b[38;5;241;43m*\u001b[39;49m\u001b[43mkwargs\u001b[49m\u001b[43m)\u001b[49m\n",
      "File \u001b[0;32m~/opt/anaconda3/envs/Rich/lib/python3.8/site-packages/pygsheets/drive.py:367\u001b[0m, in \u001b[0;36mDriveAPIWrapper.create_permission\u001b[0;34m(self, file_id, role, type, **kwargs)\u001b[0m\n\u001b[1;32m    364\u001b[0m     body[\u001b[38;5;124m'\u001b[39m\u001b[38;5;124mexpirationTime\u001b[39m\u001b[38;5;124m'\u001b[39m] \u001b[38;5;241m=\u001b[39m kwargs[\u001b[38;5;124m'\u001b[39m\u001b[38;5;124mexpirationTime\u001b[39m\u001b[38;5;124m'\u001b[39m]\n\u001b[1;32m    365\u001b[0m     \u001b[38;5;28;01mdel\u001b[39;00m kwargs[\u001b[38;5;124m'\u001b[39m\u001b[38;5;124mexpirationTime\u001b[39m\u001b[38;5;124m'\u001b[39m]\n\u001b[0;32m--> 367\u001b[0m \u001b[38;5;28;01mreturn\u001b[39;00m \u001b[38;5;28;43mself\u001b[39;49m\u001b[38;5;241;43m.\u001b[39;49m\u001b[43m_execute_request\u001b[49m\u001b[43m(\u001b[49m\u001b[38;5;28;43mself\u001b[39;49m\u001b[38;5;241;43m.\u001b[39;49m\u001b[43mservice\u001b[49m\u001b[38;5;241;43m.\u001b[39;49m\u001b[43mpermissions\u001b[49m\u001b[43m(\u001b[49m\u001b[43m)\u001b[49m\u001b[38;5;241;43m.\u001b[39;49m\u001b[43mcreate\u001b[49m\u001b[43m(\u001b[49m\u001b[43mfileId\u001b[49m\u001b[38;5;241;43m=\u001b[39;49m\u001b[43mfile_id\u001b[49m\u001b[43m,\u001b[49m\u001b[43m \u001b[49m\u001b[43mbody\u001b[49m\u001b[38;5;241;43m=\u001b[39;49m\u001b[43mbody\u001b[49m\u001b[43m,\u001b[49m\u001b[43m \u001b[49m\u001b[38;5;241;43m*\u001b[39;49m\u001b[38;5;241;43m*\u001b[39;49m\u001b[43mkwargs\u001b[49m\u001b[43m)\u001b[49m\u001b[43m)\u001b[49m\n",
      "File \u001b[0;32m~/opt/anaconda3/envs/Rich/lib/python3.8/site-packages/pygsheets/drive.py:427\u001b[0m, in \u001b[0;36mDriveAPIWrapper._execute_request\u001b[0;34m(self, request)\u001b[0m\n\u001b[1;32m    421\u001b[0m \u001b[38;5;28;01mdef\u001b[39;00m \u001b[38;5;21m_execute_request\u001b[39m(\u001b[38;5;28mself\u001b[39m, request):\n\u001b[1;32m    422\u001b[0m     \u001b[38;5;124;03m\"\"\"Executes a request.\u001b[39;00m\n\u001b[1;32m    423\u001b[0m \n\u001b[1;32m    424\u001b[0m \u001b[38;5;124;03m    :param request: The request to be executed.\u001b[39;00m\n\u001b[1;32m    425\u001b[0m \u001b[38;5;124;03m    :return:        Returns the response of the request.\u001b[39;00m\n\u001b[1;32m    426\u001b[0m \u001b[38;5;124;03m    \"\"\"\u001b[39;00m\n\u001b[0;32m--> 427\u001b[0m     \u001b[38;5;28;01mreturn\u001b[39;00m \u001b[43mrequest\u001b[49m\u001b[38;5;241;43m.\u001b[39;49m\u001b[43mexecute\u001b[49m\u001b[43m(\u001b[49m\u001b[43mnum_retries\u001b[49m\u001b[38;5;241;43m=\u001b[39;49m\u001b[38;5;28;43mself\u001b[39;49m\u001b[38;5;241;43m.\u001b[39;49m\u001b[43mretries\u001b[49m\u001b[43m)\u001b[49m\n",
      "File \u001b[0;32m~/opt/anaconda3/envs/Rich/lib/python3.8/site-packages/googleapiclient/_helpers.py:131\u001b[0m, in \u001b[0;36mpositional.<locals>.positional_decorator.<locals>.positional_wrapper\u001b[0;34m(*args, **kwargs)\u001b[0m\n\u001b[1;32m    129\u001b[0m     \u001b[38;5;28;01melif\u001b[39;00m positional_parameters_enforcement \u001b[38;5;241m==\u001b[39m POSITIONAL_WARNING:\n\u001b[1;32m    130\u001b[0m         logger\u001b[38;5;241m.\u001b[39mwarning(message)\n\u001b[0;32m--> 131\u001b[0m \u001b[38;5;28;01mreturn\u001b[39;00m \u001b[43mwrapped\u001b[49m\u001b[43m(\u001b[49m\u001b[38;5;241;43m*\u001b[39;49m\u001b[43margs\u001b[49m\u001b[43m,\u001b[49m\u001b[43m \u001b[49m\u001b[38;5;241;43m*\u001b[39;49m\u001b[38;5;241;43m*\u001b[39;49m\u001b[43mkwargs\u001b[49m\u001b[43m)\u001b[49m\n",
      "File \u001b[0;32m~/opt/anaconda3/envs/Rich/lib/python3.8/site-packages/googleapiclient/http.py:937\u001b[0m, in \u001b[0;36mHttpRequest.execute\u001b[0;34m(self, http, num_retries)\u001b[0m\n\u001b[1;32m    935\u001b[0m     callback(resp)\n\u001b[1;32m    936\u001b[0m \u001b[38;5;28;01mif\u001b[39;00m resp\u001b[38;5;241m.\u001b[39mstatus \u001b[38;5;241m>\u001b[39m\u001b[38;5;241m=\u001b[39m \u001b[38;5;241m300\u001b[39m:\n\u001b[0;32m--> 937\u001b[0m     \u001b[38;5;28;01mraise\u001b[39;00m HttpError(resp, content, uri\u001b[38;5;241m=\u001b[39m\u001b[38;5;28mself\u001b[39m\u001b[38;5;241m.\u001b[39muri)\n\u001b[1;32m    938\u001b[0m \u001b[38;5;28;01mreturn\u001b[39;00m \u001b[38;5;28mself\u001b[39m\u001b[38;5;241m.\u001b[39mpostproc(resp, content)\n",
      "\u001b[0;31mHttpError\u001b[0m: <HttpError 403 when requesting https://www.googleapis.com/drive/v3/files/18j_RUQmj_Aox6VulRxEvfSbV7LfUlridVc6cWH1rc0U/permissions?alt=json returned \"The transferOwnership parameter must be enabled when the permission role is 'owner'.\". Details: \"[{'domain': 'global', 'reason': 'forbidden', 'message': \"The transferOwnership parameter must be enabled when the permission role is 'owner'.\", 'locationType': 'parameter', 'location': 'transferOwnership'}]\">"
     ]
    }
   ],
   "source": [
    "sh = gc.open_by_key('18j_RUQmj_Aox6VulRxEvfSbV7LfUlridVc6cWH1rc0U')\n",
    "\n",
    "sh.share('spthsrbwls123@yonsei.ac.kr', role='owner')\n"
   ]
  },
  {
   "cell_type": "code",
   "execution_count": 4,
   "id": "47c4965d",
   "metadata": {},
   "outputs": [],
   "source": [
    "sh = gc.open_by_key('18j_RUQmj_Aox6VulRxEvfSbV7LfUlridVc6cWH1rc0U')\n",
    "\n",
    "ws1 = sh[0]\n",
    "\n",
    "ws1.clear()\n",
    "\n"
   ]
  },
  {
   "cell_type": "code",
   "execution_count": 5,
   "id": "b5f03531",
   "metadata": {},
   "outputs": [],
   "source": [
    "import pandas as pd\n",
    "updated = pd.DataFrame({'이름':['손규진','제민영'],\"전화번호\":['01049911341','01086210327']})"
   ]
  },
  {
   "cell_type": "code",
   "execution_count": 6,
   "id": "56b31d68",
   "metadata": {},
   "outputs": [],
   "source": [
    "ws1.set_dataframe(updated,(1,1))"
   ]
  },
  {
   "cell_type": "code",
   "execution_count": null,
   "id": "536e0433",
   "metadata": {},
   "outputs": [],
   "source": []
  }
 ],
 "metadata": {
  "kernelspec": {
   "display_name": "Python 3 (ipykernel)",
   "language": "python",
   "name": "python3"
  },
  "language_info": {
   "codemirror_mode": {
    "name": "ipython",
    "version": 3
   },
   "file_extension": ".py",
   "mimetype": "text/x-python",
   "name": "python",
   "nbconvert_exporter": "python",
   "pygments_lexer": "ipython3",
   "version": "3.8.13"
  }
 },
 "nbformat": 4,
 "nbformat_minor": 5
}
