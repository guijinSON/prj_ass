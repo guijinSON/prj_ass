{
 "cells": [
  {
   "cell_type": "code",
   "execution_count": 1,
   "id": "6fbeafe4",
   "metadata": {},
   "outputs": [],
   "source": [
    "import pygsheets"
   ]
  },
  {
   "cell_type": "code",
   "execution_count": 2,
   "id": "a5a0b8a0",
   "metadata": {},
   "outputs": [],
   "source": [
    "login_credential = 'future-disruption-index-adc3981eedd2.json'\n",
    "gc = pygsheets.authorize(service_file=login_credential)\n"
   ]
  },
  {
   "cell_type": "code",
   "execution_count": 3,
   "id": "cc4cae0f",
   "metadata": {},
   "outputs": [],
   "source": [
    "res = gc.sheet.create(\"prj_ass\")"
   ]
  },
  {
   "cell_type": "code",
   "execution_count": 8,
   "id": "69002263",
   "metadata": {},
   "outputs": [],
   "source": [
    "sh = gc.open_by_key('18j_RUQmj_Aox6VulRxEvfSbV7LfUlridVc6cWH1rc0U')\n",
    "ws1 = sh[0]\n",
    "original = ws1.get_as_df()\n",
    "\n",
    "\n",
    "ws.clear()\n",
    "ws.set_dataframe(updated,(1,1))"
   ]
  },
  {
   "cell_type": "code",
   "execution_count": 15,
   "id": "47c4965d",
   "metadata": {},
   "outputs": [
    {
     "data": {
      "text/html": [
       "<div>\n",
       "<style scoped>\n",
       "    .dataframe tbody tr th:only-of-type {\n",
       "        vertical-align: middle;\n",
       "    }\n",
       "\n",
       "    .dataframe tbody tr th {\n",
       "        vertical-align: top;\n",
       "    }\n",
       "\n",
       "    .dataframe thead th {\n",
       "        text-align: right;\n",
       "    }\n",
       "</style>\n",
       "<table border=\"1\" class=\"dataframe\">\n",
       "  <thead>\n",
       "    <tr style=\"text-align: right;\">\n",
       "      <th></th>\n",
       "      <th>이름</th>\n",
       "      <th>전화번호</th>\n",
       "    </tr>\n",
       "  </thead>\n",
       "  <tbody>\n",
       "    <tr>\n",
       "      <th>0</th>\n",
       "      <td>손규진</td>\n",
       "      <td>0</td>\n",
       "    </tr>\n",
       "    <tr>\n",
       "      <th>1</th>\n",
       "      <td>제민영</td>\n",
       "      <td>0</td>\n",
       "    </tr>\n",
       "  </tbody>\n",
       "</table>\n",
       "</div>"
      ],
      "text/plain": [
       "    이름  전화번호\n",
       "0  손규진     0\n",
       "1  제민영     0"
      ]
     },
     "execution_count": 15,
     "metadata": {},
     "output_type": "execute_result"
    }
   ],
   "source": []
  },
  {
   "cell_type": "code",
   "execution_count": null,
   "id": "16fdaa2b",
   "metadata": {},
   "outputs": [],
   "source": []
  },
  {
   "cell_type": "code",
   "execution_count": 13,
   "id": "b5f03531",
   "metadata": {},
   "outputs": [],
   "source": [
    "import pandas as pd\n",
    "updated = pd.DataFrame({'이름':['손규진','제민영'],\"전화번호\":[0,0]})"
   ]
  },
  {
   "cell_type": "code",
   "execution_count": 14,
   "id": "56b31d68",
   "metadata": {},
   "outputs": [],
   "source": []
  },
  {
   "cell_type": "code",
   "execution_count": 17,
   "id": "31cc3fc5",
   "metadata": {},
   "outputs": [],
   "source": [
    "sh.share('spthsrbwls123@yonsei.ac.kr')"
   ]
  },
  {
   "cell_type": "code",
   "execution_count": null,
   "id": "b4c46692",
   "metadata": {},
   "outputs": [],
   "source": []
  }
 ],
 "metadata": {
  "kernelspec": {
   "display_name": "Python 3 (ipykernel)",
   "language": "python",
   "name": "python3"
  },
  "language_info": {
   "codemirror_mode": {
    "name": "ipython",
    "version": 3
   },
   "file_extension": ".py",
   "mimetype": "text/x-python",
   "name": "python",
   "nbconvert_exporter": "python",
   "pygments_lexer": "ipython3",
   "version": "3.8.13"
  }
 },
 "nbformat": 4,
 "nbformat_minor": 5
}
