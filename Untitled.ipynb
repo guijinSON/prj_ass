{
 "cells": [
  {
   "cell_type": "code",
   "execution_count": 1,
   "id": "6fbeafe4",
   "metadata": {},
   "outputs": [],
   "source": [
    "import pygsheets"
   ]
  },
  {
   "cell_type": "code",
   "execution_count": 2,
   "id": "a5a0b8a0",
   "metadata": {},
   "outputs": [],
   "source": [
    "login_credential = 'future-disruption-index-adc3981eedd2.json'\n",
    "gc = pygsheets.authorize(service_file=login_credential)\n"
   ]
  },
  {
   "cell_type": "code",
   "execution_count": 3,
   "id": "69002263",
   "metadata": {},
   "outputs": [
    {
     "ename": "SyntaxError",
     "evalue": "invalid syntax (2224530337.py, line 7)",
     "output_type": "error",
     "traceback": [
      "\u001b[0;36m  Input \u001b[0;32mIn [3]\u001b[0;36m\u001b[0m\n\u001b[0;31m    ws1.set_dataframe(,(1,1))\u001b[0m\n\u001b[0m                      ^\u001b[0m\n\u001b[0;31mSyntaxError\u001b[0m\u001b[0;31m:\u001b[0m invalid syntax\n"
     ]
    }
   ],
   "source": [
    "ws1 = sh[0]\n",
    "original = ws1.get_as_df()\n",
    "\n",
    "\n"
   ]
  },
  {
   "cell_type": "code",
   "execution_count": 4,
   "id": "47c4965d",
   "metadata": {},
   "outputs": [],
   "source": [
    "sh = gc.open_by_key('18j_RUQmj_Aox6VulRxEvfSbV7LfUlridVc6cWH1rc0U')\n",
    "\n",
    "ws1 = sh[0]\n",
    "\n",
    "ws1.clear()\n",
    "\n"
   ]
  },
  {
   "cell_type": "code",
   "execution_count": 5,
   "id": "b5f03531",
   "metadata": {},
   "outputs": [],
   "source": [
    "import pandas as pd\n",
    "updated = pd.DataFrame({'이름':['손규진','제민영'],\"전화번호\":['01049911341','01086210327']})"
   ]
  },
  {
   "cell_type": "code",
   "execution_count": 6,
   "id": "56b31d68",
   "metadata": {},
   "outputs": [],
   "source": [
    "ws1.set_dataframe(updated,(1,1))"
   ]
  },
  {
   "cell_type": "code",
   "execution_count": null,
   "id": "536e0433",
   "metadata": {},
   "outputs": [],
   "source": []
  }
 ],
 "metadata": {
  "kernelspec": {
   "display_name": "Python 3 (ipykernel)",
   "language": "python",
   "name": "python3"
  },
  "language_info": {
   "codemirror_mode": {
    "name": "ipython",
    "version": 3
   },
   "file_extension": ".py",
   "mimetype": "text/x-python",
   "name": "python",
   "nbconvert_exporter": "python",
   "pygments_lexer": "ipython3",
   "version": "3.8.13"
  }
 },
 "nbformat": 4,
 "nbformat_minor": 5
}
